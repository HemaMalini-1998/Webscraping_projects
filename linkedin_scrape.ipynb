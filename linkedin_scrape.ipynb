{
 "cells": [
  {
   "cell_type": "markdown",
   "metadata": {},
   "source": [
    "#Importing the required libraries"
   ]
  },
  {
   "cell_type": "code",
   "execution_count": 1,
   "metadata": {},
   "outputs": [],
   "source": [
    "#using selenium library to automate the browser and test\n",
    "\n",
    "from selenium import webdriver      #webdriver component provides a programing interface to work on \n",
    "from selenium.webdriver.chrome.service import Service\n",
    "from webdriver_manager.chrome import ChromeDriverManager\n",
    "from selenium.webdriver.common.by import By\n",
    "from selenium.webdriver.common.keys import Keys\n",
    "\n",
    "from bs4 import BeautifulSoup       #to parse the html document and scrape the necessary data\n",
    "\n",
    "import time"
   ]
  },
  {
   "cell_type": "markdown",
   "metadata": {},
   "source": [
    "#Connecting to the drivers"
   ]
  },
  {
   "cell_type": "code",
   "execution_count": 2,
   "metadata": {},
   "outputs": [],
   "source": [
    "serv_obj = Service(\"C:\\Drivers\\chromedriver-win64\\chromedriver\")        #using Service classes to manage the local drivers\n",
    "serv_obj.start()"
   ]
  },
  {
   "cell_type": "markdown",
   "metadata": {},
   "source": [
    "#WebScraping the data"
   ]
  },
  {
   "cell_type": "code",
   "execution_count": 6,
   "metadata": {},
   "outputs": [
    {
     "name": "stdout",
     "output_type": "stream",
     "text": [
      "('Reena Thomas', 'Software Engineer III - Cisco')\n",
      "('Lavanya Deivaa', 'Business Analyst @ Cisco | SQL | Python | Tableau | Snowflake | CEG ‘20')\n"
     ]
    }
   ],
   "source": [
    "data=[]\n",
    "\n",
    "driver = webdriver.Remote(serv_obj.service_url)     #Remote class is being used to control the browser by sending commands\n",
    "driver.get(\"https://www.linkedin.com/search/results/people/?heroEntityKey=urn%3Ali%3Aorganization%3A1063&keywords=cisco&origin=SWITCH_SEARCH_VERTICAL&position=0&searchId=b10384d8-0887-42a4-bba6-1badbaa94cd8&sid=*ek\")\n",
    "        #passing the url through get function\n",
    "finding = driver.find_element(By.ID,\"username\").send_keys(\"enter your email/phone no.\", Keys.ENTER)\n",
    "finding = driver.find_element(By.ID,\"password\").send_keys(\"password\", Keys.ENTER)\n",
    "        #here we are locating the input cells to sign in by ID from html and passing the credentials through send keys function\n",
    "time.sleep(5)       #providing the pausing time explicitly for the browser to load (could be adjusted as per requirements)\n",
    "\n",
    "def scrape(n):      #creating a function to webscrape - n represents the number of linkedin profiles to be scraped\n",
    "    for x in range(n):          #creating a loop to get details of profiles one by one\n",
    "        profiles = driver.find_elements(By.CLASS_NAME, \"DAiEIoxFQQOTOxMUJFJCZAGcsrPESGmwPvw\")   #locating the class of list of profiles in results container\n",
    "        profiles[x].click()     #indexing the profiles list to click and get further details\n",
    "        time.sleep(5)\n",
    "        \n",
    "        soup = BeautifulSoup(driver.page_source, 'html.parser')\n",
    "        \n",
    "        full_name = soup.find('h1', class_='text-heading-xlarge inline t-24 v-align-middle break-words').get_text()\n",
    "        occupation = soup.find('div', class_='text-body-medium break-words').get_text().strip()\n",
    "                #scraping the data from profiles using class and tag name from html\n",
    "\n",
    "        data.append({'full_name': full_name,'occupation': occupation})      #appending the details\n",
    "        \n",
    "        driver.back()       #to drive back to webpage of search results and to select the next profile\n",
    "        time.sleep(5)\n",
    "    \n",
    "scrape(2)       #calling the function with required number of profiles to be scraped \n",
    "                #the number could be replaced with 'len(profiles)' to scrape all the profiles in the webpage\n",
    "\n",
    "\n",
    "#def scroll(y):         #creating a function to scroll and move to next pages in search results - y represents the number of pages to be scraped\n",
    "    #for i in range(y):\n",
    "        #profiles = driver.find_elements(By.CLASS_NAME, \"DAiEIoxFQQOTOxMUJFJCZAGcsrPESGmwPvw\")\n",
    "        #scrape(len(profiles))\n",
    "        #page = driver.find_element(By.CLASS_NAME,'ember-view   ').send_keys(Keys.CONTROL + Keys.END)       #to scroll down to bottom of the page\n",
    "        #time.sleep(5)\n",
    "        #page = driver.find_element(By.CSS_SELECTOR,'button[aria-label = Next]')        #finding the 'Next' button in html using CSS_SELECTOR \n",
    "                                #providing tagname[unique attribute] to locate the element\n",
    "        #page.click()           #takes to the next page\n",
    "        #time.sleep(10)\n",
    "#scroll(5)\n",
    "\n",
    "import sqlite3          #importing sqlite3 module to save the scraped data in a database\n",
    "connection = sqlite3.connect(\"Linkedin_profiles.db\")        #connecting to database\n",
    "cursor=connection.cursor()\n",
    "sql_command=('''\n",
    "        CREATE TABLE IF NOT EXISTS Profiles1 (\n",
    "            full_name TEXT,\n",
    "            occupation TEXT)''')\n",
    "cursor.execute(sql_command)     #creating a table\n",
    "\n",
    "for xyz in data:                #inserting the data using for loop\n",
    "    cursor.execute('''INSERT INTO Profiles1 (full_name, occupation) VALUES (?, ?)''' ,\n",
    "                    (xyz['full_name'], xyz['occupation']))\n",
    "\n",
    "\n",
    "connection.commit()\n",
    "\n",
    "cursor.execute('SELECT * FROM Profiles1')       \n",
    "result = cursor.fetchall()\n",
    "for row in result:\n",
    "    print(row)          #to display the results\n",
    "connection.close()\n",
    "\n",
    "\n",
    "driver.quit()           #closing the browser"
   ]
  }
 ],
 "metadata": {
  "kernelspec": {
   "display_name": "py311",
   "language": "python",
   "name": "python3"
  },
  "language_info": {
   "codemirror_mode": {
    "name": "ipython",
    "version": 3
   },
   "file_extension": ".py",
   "mimetype": "text/x-python",
   "name": "python",
   "nbconvert_exporter": "python",
   "pygments_lexer": "ipython3",
   "version": "3.11.5"
  }
 },
 "nbformat": 4,
 "nbformat_minor": 2
}
