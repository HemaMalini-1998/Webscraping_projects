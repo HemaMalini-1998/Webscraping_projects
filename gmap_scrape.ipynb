{
 "cells": [
  {
   "cell_type": "markdown",
   "metadata": {},
   "source": [
    "#Importing the required libraries"
   ]
  },
  {
   "cell_type": "code",
   "execution_count": 1,
   "metadata": {},
   "outputs": [],
   "source": [
    "#using selenium library to automate the browser and test\n",
    "\n",
    "from selenium import webdriver      #webdriver component provides a programing interface to work on     \n",
    "from selenium.webdriver.chrome.service import Service\n",
    "from selenium.webdriver.common.by import By\n",
    "from selenium.webdriver.common.keys import Keys\n",
    "\n",
    "from bs4 import BeautifulSoup       #to parse the html document and scrape the necessary data\n",
    "\n",
    "import time"
   ]
  },
  {
   "cell_type": "markdown",
   "metadata": {},
   "source": [
    "#Connecting to the drivers"
   ]
  },
  {
   "cell_type": "code",
   "execution_count": 2,
   "metadata": {},
   "outputs": [],
   "source": [
    "serv_obj = Service(\"C:\\Drivers\\chromedriver-win64\\chromedriver\")        #using Service classes to manage the local drivers\n",
    "serv_obj.start()"
   ]
  },
  {
   "cell_type": "markdown",
   "metadata": {},
   "source": [
    "#WebScraping the data"
   ]
  },
  {
   "cell_type": "code",
   "execution_count": 22,
   "metadata": {},
   "outputs": [
    {
     "name": "stdout",
     "output_type": "stream",
     "text": [
      "('Sangeetha Veg Restaurant', '\\ue0c8No.1, 596, Grand Southern Trunk Rd, New Perungalathur, Perungalathur, Tamil Nadu 600048', '\\ue0b0044 4217 0304', '\\uf186V3WQ+VV Perungalathur, Tamil Nadu')\n",
      "('CHENNAI 45 FOOD PARK', '\\ue0c8121, 4th street, West, CTO Colony, Lakshmipuram, Tambaram, Chennai, Tamil Nadu 600045', '\\ue0b0081220 61115', '\\uf186W3HX+3R Chennai, Tamil Nadu')\n",
      "('ANYOS KITCHEN', '\\ue0c820, MELENDAI STREET, Mudichur Rd, West Tambaram, Chennai, Tamil Nadu 600045', '\\ue0b0091761 51461', '\\uf186W4G3+5C Chennai, Tamil Nadu')\n",
      "('Hotel Sri Saai Bhavan', '\\ue0c8W483+FQ4 ताम्ब्रम - मुदिचुर, Oragadam Rd, ताम्ब्रम वेस्ट, Irumbuliyur, Chennai, Tamil Nadu 600045', '\\ue0b0098408 33501', '\\uf186W483+FQ Chennai, Tamil Nadu')\n"
     ]
    }
   ],
   "source": [
    "driver = webdriver.Remote(serv_obj.service_url)     #Remote class is being used to control the browser by sending commands\n",
    "driver.get(\"https://www.google.com/maps/@12.9052786,80.1093562,15z?entry=ttu\")      #passing the url through get function\n",
    "finding = driver.find_element(By.NAME,\"q\").send_keys(\"restaurants near me\", Keys.ENTER)     #find_element function helps to locate the element in html\n",
    "    #here we are locating the input cell by name from html and passing the input content through send keys function\n",
    "\n",
    "time.sleep(5)       #providing the pausing time explicitly for the browser to load (could be adjusted as per requirements)\n",
    "\n",
    "restaurants = []\n",
    "\n",
    "def web_scrape(n):      #creating a function to webscrape - n represents the number of restaurants to be scraped\n",
    "    for x in range(n):      #creating a loop to get details of restaurants one by one\n",
    "        profiles = driver.find_elements(By.CLASS_NAME, \"hfpxzc\")        #locating the class of list of restaurants in results container\n",
    "        profiles[x].click()         #indexing the restaurants list to click and get further details\n",
    "        time.sleep(5)\n",
    "        soup = BeautifulSoup(driver.page_source, 'html.parser')\n",
    "        name = soup.find('h1', class_='DUwDvf lfPIob').get_text().strip() if soup.find('h1', class_='DUwDvf lfPIob').get_text().strip() else 'N/A'\n",
    "                #scraping the name of restaurant using class and tag name from html     #if condition to return 'n/a' if element is not available\n",
    "        \n",
    "        address = soup.find(lambda tag: tag.name=='button' and tag.has_attr('data-item-id') and tag['data-item-id']=='address').get_text().strip() if soup.find(lambda tag: tag.name=='button' and tag.has_attr('data-item-id') and tag['data-item-id']=='address').get_text().strip() else 'N/A'\n",
    "        phone = soup.find(lambda tag: tag.name=='button' and tag.has_attr('data-tooltip') and tag['data-tooltip']=='Copy phone number').get_text().strip() if soup.find(lambda tag: tag.name=='button' and tag.has_attr('data-tooltip') and tag['data-tooltip']=='Copy phone number').get_text().strip() else 'N/A'\n",
    "        map = soup.find(lambda tag: tag.name=='button' and tag.has_attr('data-item-id') and tag['data-item-id']=='oloc').get_text().strip() if soup.find(lambda tag: tag.name=='button' and tag.has_attr('data-item-id') and tag['data-item-id']=='oloc').get_text().strip() else 'N/A'\n",
    "                #as address, contact details fall in a common class, we are extracting details using lambda function and unique attributes in html\n",
    "        \n",
    "        restaurants.append({'name': name, 'address' : address, 'phone' : phone, 'map': map})        #appending the details\n",
    "        \n",
    "        driver.back()       #to drive back to webpage of search results and to select the next restaurant\n",
    "        time.sleep(5)\n",
    "    \n",
    "web_scrape(4)       #calling the function with required number of restaurants to be scraped\n",
    "\n",
    "import sqlite3      #importing sqlite3 module to save the scraped data in a database\n",
    "connection = sqlite3.connect(\"hema.db\")     #connecting to database\n",
    "cursor=connection.cursor()\n",
    "sql_command=('''\n",
    "        CREATE TABLE project (\n",
    "            name TEXT,\n",
    "            address TEXT,\n",
    "            phone TEXT,\n",
    "            map TEXT)''')\n",
    "cursor.execute(sql_command)     #creating a table\n",
    "\n",
    "for xyz in restaurants:         #inserting the data using for loop\n",
    "    cursor.execute('''INSERT INTO project (name, address, phone, map) VALUES (?, ?, ?, ?)''' ,\n",
    "                    (xyz['name'], xyz['address'], xyz['phone'], xyz['map']))\n",
    "\n",
    "connection.commit()\n",
    "\n",
    "cursor.execute('SELECT * FROM project')     \n",
    "result = cursor.fetchall()      \n",
    "for row in result:      #to display the results\n",
    "    print(row)\n",
    "connection.close()\n",
    "\n",
    "\n",
    "driver.quit()       #closing the browser"
   ]
  }
 ],
 "metadata": {
  "kernelspec": {
   "display_name": "py311",
   "language": "python",
   "name": "python3"
  },
  "language_info": {
   "codemirror_mode": {
    "name": "ipython",
    "version": 3
   },
   "file_extension": ".py",
   "mimetype": "text/x-python",
   "name": "python",
   "nbconvert_exporter": "python",
   "pygments_lexer": "ipython3",
   "version": "3.11.5"
  }
 },
 "nbformat": 4,
 "nbformat_minor": 2
}
